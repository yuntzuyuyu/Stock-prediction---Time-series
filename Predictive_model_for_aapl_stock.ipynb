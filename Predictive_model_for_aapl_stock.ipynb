{
 "cells": [
  {
   "cell_type": "code",
   "execution_count": 6,
   "id": "ab2d8e8f",
   "metadata": {},
   "outputs": [
    {
     "name": "stdout",
     "output_type": "stream",
     "text": [
      "Collecting arch\n",
      "  Obtaining dependency information for arch from https://files.pythonhosted.org/packages/d6/47/11330b7cd468d1b2e18fbc6e2f7ae9238febe3f93ac393791f47fe98c021/arch-7.0.0-cp39-cp39-macosx_10_9_x86_64.whl.metadata\n",
      "  Downloading arch-7.0.0-cp39-cp39-macosx_10_9_x86_64.whl.metadata (13 kB)\n",
      "Collecting numpy>=1.22.3 (from arch)\n",
      "  Obtaining dependency information for numpy>=1.22.3 from https://files.pythonhosted.org/packages/79/56/fb78389e7a1b1d0aa20dd0cbda5110d68f5df77b0a704180f0959b4f8ad1/numpy-2.0.0-cp39-cp39-macosx_10_9_x86_64.whl.metadata\n",
      "  Downloading numpy-2.0.0-cp39-cp39-macosx_10_9_x86_64.whl.metadata (60 kB)\n",
      "\u001b[2K     \u001b[90m━━━━━━━━━━━━━━━━━━━━━━━━━━━━━━━━━━━━━━━\u001b[0m \u001b[32m60.9/60.9 kB\u001b[0m \u001b[31m976.8 kB/s\u001b[0m eta \u001b[36m0:00:00\u001b[0m \u001b[36m0:00:01\u001b[0m\n",
      "\u001b[?25hRequirement already satisfied: scipy>=1.8 in /Users/yuntzuyu/opt/anaconda3/lib/python3.9/site-packages (from arch) (1.11.4)\n",
      "Requirement already satisfied: pandas>=1.4 in /Users/yuntzuyu/opt/anaconda3/lib/python3.9/site-packages (from arch) (1.4.2)\n",
      "Requirement already satisfied: statsmodels>=0.12 in /Users/yuntzuyu/opt/anaconda3/lib/python3.9/site-packages (from arch) (0.13.2)\n",
      "Requirement already satisfied: python-dateutil>=2.8.1 in /Users/yuntzuyu/opt/anaconda3/lib/python3.9/site-packages (from pandas>=1.4->arch) (2.8.2)\n",
      "Requirement already satisfied: pytz>=2020.1 in /Users/yuntzuyu/opt/anaconda3/lib/python3.9/site-packages (from pandas>=1.4->arch) (2024.1)\n",
      "  Obtaining dependency information for numpy>=1.22.3 from https://files.pythonhosted.org/packages/7d/24/ce71dc08f06534269f66e73c04f5709ee024a1afe92a7b6e1d73f158e1f8/numpy-1.26.4-cp39-cp39-macosx_10_9_x86_64.whl.metadata\n",
      "  Using cached numpy-1.26.4-cp39-cp39-macosx_10_9_x86_64.whl.metadata (61 kB)\n",
      "Requirement already satisfied: patsy>=0.5.2 in /Users/yuntzuyu/opt/anaconda3/lib/python3.9/site-packages (from statsmodels>=0.12->arch) (0.5.2)\n",
      "Requirement already satisfied: packaging>=21.3 in /Users/yuntzuyu/opt/anaconda3/lib/python3.9/site-packages (from statsmodels>=0.12->arch) (21.3)\n",
      "Requirement already satisfied: pyparsing!=3.0.5,>=2.0.2 in /Users/yuntzuyu/opt/anaconda3/lib/python3.9/site-packages (from packaging>=21.3->statsmodels>=0.12->arch) (3.0.4)\n",
      "Requirement already satisfied: six in /Users/yuntzuyu/opt/anaconda3/lib/python3.9/site-packages (from patsy>=0.5.2->statsmodels>=0.12->arch) (1.16.0)\n",
      "Downloading arch-7.0.0-cp39-cp39-macosx_10_9_x86_64.whl (956 kB)\n",
      "\u001b[2K   \u001b[90m━━━━━━━━━━━━━━━━━━━━━━━━━━━━━━━━━━━━━━━━\u001b[0m \u001b[32m956.8/956.8 kB\u001b[0m \u001b[31m4.6 MB/s\u001b[0m eta \u001b[36m0:00:00\u001b[0ma \u001b[36m0:00:01\u001b[0m\n",
      "\u001b[?25hDownloading numpy-1.26.4-cp39-cp39-macosx_10_9_x86_64.whl (20.6 MB)\n",
      "\u001b[2K   \u001b[90m━━━━━━━━━━━━━━━━━━━━━━━━━━━━━━━━━━━━━━━━\u001b[0m \u001b[32m20.6/20.6 MB\u001b[0m \u001b[31m5.5 MB/s\u001b[0m eta \u001b[36m0:00:00\u001b[0m00:01\u001b[0m00:01\u001b[0m\n",
      "\u001b[?25hInstalling collected packages: numpy, arch\n",
      "  Attempting uninstall: numpy\n",
      "    Found existing installation: numpy 1.22.0\n",
      "    Uninstalling numpy-1.22.0:\n",
      "      Successfully uninstalled numpy-1.22.0\n",
      "\u001b[31mERROR: pip's dependency resolver does not currently take into account all the packages that are installed. This behaviour is the source of the following dependency conflicts.\n",
      "daal4py 2021.5.0 requires daal==2021.4.0, which is not installed.\n",
      "mlflow 2.0.1 requires importlib-metadata!=4.7.0,<6,>=3.7.0, but you have importlib-metadata 6.11.0 which is incompatible.\n",
      "mlflow 2.0.1 requires pytz<2023, but you have pytz 2024.1 which is incompatible.\n",
      "tf-nightly 2.13.0.dev20230323 requires numpy<1.24,>=1.22, but you have numpy 1.26.4 which is incompatible.\n",
      "ydata-profiling 4.6.4 requires numpy<1.26,>=1.16.0, but you have numpy 1.26.4 which is incompatible.\n",
      "ydata-profiling 4.6.4 requires pydantic>=2, but you have pydantic 1.10.2 which is incompatible.\u001b[0m\u001b[31m\n",
      "\u001b[0mSuccessfully installed arch-7.0.0 numpy-1.26.0\n"
     ]
    }
   ],
   "source": [
    "!pip install arch\n",
    "\n",
    "\n"
   ]
  },
  {
   "cell_type": "code",
   "execution_count": 7,
   "id": "851eafb6",
   "metadata": {},
   "outputs": [],
   "source": [
    "\n",
    "import pandas as pd\n",
    "import numpy as np\n",
    "import matplotlib.pyplot as plt\n",
    "from statsmodels.tsa.seasonal import seasonal_decompose\n",
    "from statsmodels.tsa.api import ExponentialSmoothing, SimpleExpSmoothing, Holt\n",
    "from statsmodels.tsa.arima.model import ARIMA\n",
    "from statsmodels.graphics.tsaplots import plot_acf, plot_pacf\n",
    "from statsmodels.tsa.stattools import adfuller, kpss\n",
    "from statsmodels.tsa.seasonal import STL\n",
    "from arch import arch_model\n",
    "import seaborn as sns"
   ]
  },
  {
   "cell_type": "code",
   "execution_count": 27,
   "id": "cefc09b2",
   "metadata": {},
   "outputs": [
    {
     "data": {
      "text/plain": [
       "Index(['Date', 'Open', 'High', 'Low', 'Close', 'Adj Close', 'Volume'], dtype='object')"
      ]
     },
     "execution_count": 27,
     "metadata": {},
     "output_type": "execute_result"
    }
   ],
   "source": [
    "#Load data\n",
    "AAPL = pd.read_csv('AAPL.csv')\n",
    "\n",
    "AAPL.columns"
   ]
  },
  {
   "cell_type": "code",
   "execution_count": 28,
   "id": "229afc12",
   "metadata": {},
   "outputs": [
    {
     "data": {
      "text/html": [
       "<div>\n",
       "<style scoped>\n",
       "    .dataframe tbody tr th:only-of-type {\n",
       "        vertical-align: middle;\n",
       "    }\n",
       "\n",
       "    .dataframe tbody tr th {\n",
       "        vertical-align: top;\n",
       "    }\n",
       "\n",
       "    .dataframe thead th {\n",
       "        text-align: right;\n",
       "    }\n",
       "</style>\n",
       "<table border=\"1\" class=\"dataframe\">\n",
       "  <thead>\n",
       "    <tr style=\"text-align: right;\">\n",
       "      <th></th>\n",
       "      <th>Open</th>\n",
       "      <th>High</th>\n",
       "      <th>Low</th>\n",
       "      <th>Close</th>\n",
       "      <th>Adj Close</th>\n",
       "      <th>Volume</th>\n",
       "    </tr>\n",
       "    <tr>\n",
       "      <th>Date</th>\n",
       "      <th></th>\n",
       "      <th></th>\n",
       "      <th></th>\n",
       "      <th></th>\n",
       "      <th></th>\n",
       "      <th></th>\n",
       "    </tr>\n",
       "  </thead>\n",
       "  <tbody>\n",
       "    <tr>\n",
       "      <th>1980-12-12</th>\n",
       "      <td>0.128348</td>\n",
       "      <td>0.128906</td>\n",
       "      <td>0.128348</td>\n",
       "      <td>0.128348</td>\n",
       "      <td>0.099722</td>\n",
       "      <td>469033600</td>\n",
       "    </tr>\n",
       "    <tr>\n",
       "      <th>1980-12-15</th>\n",
       "      <td>0.122210</td>\n",
       "      <td>0.122210</td>\n",
       "      <td>0.121652</td>\n",
       "      <td>0.121652</td>\n",
       "      <td>0.094519</td>\n",
       "      <td>175884800</td>\n",
       "    </tr>\n",
       "    <tr>\n",
       "      <th>1980-12-16</th>\n",
       "      <td>0.113281</td>\n",
       "      <td>0.113281</td>\n",
       "      <td>0.112723</td>\n",
       "      <td>0.112723</td>\n",
       "      <td>0.087582</td>\n",
       "      <td>105728000</td>\n",
       "    </tr>\n",
       "    <tr>\n",
       "      <th>1980-12-17</th>\n",
       "      <td>0.115513</td>\n",
       "      <td>0.116071</td>\n",
       "      <td>0.115513</td>\n",
       "      <td>0.115513</td>\n",
       "      <td>0.089749</td>\n",
       "      <td>86441600</td>\n",
       "    </tr>\n",
       "    <tr>\n",
       "      <th>1980-12-18</th>\n",
       "      <td>0.118862</td>\n",
       "      <td>0.119420</td>\n",
       "      <td>0.118862</td>\n",
       "      <td>0.118862</td>\n",
       "      <td>0.092351</td>\n",
       "      <td>73449600</td>\n",
       "    </tr>\n",
       "  </tbody>\n",
       "</table>\n",
       "</div>"
      ],
      "text/plain": [
       "                Open      High       Low     Close  Adj Close     Volume\n",
       "Date                                                                    \n",
       "1980-12-12  0.128348  0.128906  0.128348  0.128348   0.099722  469033600\n",
       "1980-12-15  0.122210  0.122210  0.121652  0.121652   0.094519  175884800\n",
       "1980-12-16  0.113281  0.113281  0.112723  0.112723   0.087582  105728000\n",
       "1980-12-17  0.115513  0.116071  0.115513  0.115513   0.089749   86441600\n",
       "1980-12-18  0.118862  0.119420  0.118862  0.118862   0.092351   73449600"
      ]
     },
     "execution_count": 28,
     "metadata": {},
     "output_type": "execute_result"
    }
   ],
   "source": [
    "# Preprocess data\n",
    "AAPL['Date'] = pd.to_datetime(AAPL['Date'], format='%Y-%m-%d')\n",
    "AAPL = AAPL.set_index('Date')\n",
    "AAPL = AAPL.sort_index()\n",
    "\n",
    "AAPL.head()"
   ]
  },
  {
   "cell_type": "code",
   "execution_count": 31,
   "id": "9095b99b",
   "metadata": {},
   "outputs": [
    {
     "name": "stdout",
     "output_type": "stream",
     "text": [
      "0\n"
     ]
    }
   ],
   "source": [
    "# Check for zero or negative values in 'Close' column\n",
    "print((AAPL['Close'] <= 0).sum())\n",
    "\n",
    "\n"
   ]
  },
  {
   "cell_type": "code",
   "execution_count": 33,
   "id": "fc396c0f",
   "metadata": {},
   "outputs": [
    {
     "data": {
      "text/plain": [
       "Date\n",
       "1980-12-12      0.128348\n",
       "1980-12-15      0.121652\n",
       "1980-12-16      0.112723\n",
       "1980-12-17      0.115513\n",
       "1980-12-18      0.118862\n",
       "                 ...    \n",
       "2023-05-04    165.789993\n",
       "2023-05-05    173.570007\n",
       "2023-05-08    173.500000\n",
       "2023-05-09    171.770004\n",
       "2023-05-10    173.559998\n",
       "Name: Close, Length: 10692, dtype: float64"
      ]
     },
     "execution_count": 33,
     "metadata": {},
     "output_type": "execute_result"
    }
   ],
   "source": [
    "\n",
    "# Replace zero or negative values with a small positive number (e.g., 1e-3)\n",
    "AAPL['Close'] = AAPL['Close'].apply(lambda x: x if x > 0 else 1e-3)\n",
    "\n",
    "AAPL['Close']"
   ]
  },
  {
   "cell_type": "code",
   "execution_count": 36,
   "id": "7a918141",
   "metadata": {},
   "outputs": [
    {
     "data": {
      "text/html": [
       "<div>\n",
       "<style scoped>\n",
       "    .dataframe tbody tr th:only-of-type {\n",
       "        vertical-align: middle;\n",
       "    }\n",
       "\n",
       "    .dataframe tbody tr th {\n",
       "        vertical-align: top;\n",
       "    }\n",
       "\n",
       "    .dataframe thead th {\n",
       "        text-align: right;\n",
       "    }\n",
       "</style>\n",
       "<table border=\"1\" class=\"dataframe\">\n",
       "  <thead>\n",
       "    <tr style=\"text-align: right;\">\n",
       "      <th></th>\n",
       "      <th>Open</th>\n",
       "      <th>High</th>\n",
       "      <th>Low</th>\n",
       "      <th>Close</th>\n",
       "      <th>Adj Close</th>\n",
       "      <th>Volume</th>\n",
       "    </tr>\n",
       "    <tr>\n",
       "      <th>Date</th>\n",
       "      <th></th>\n",
       "      <th></th>\n",
       "      <th></th>\n",
       "      <th></th>\n",
       "      <th></th>\n",
       "      <th></th>\n",
       "    </tr>\n",
       "  </thead>\n",
       "  <tbody>\n",
       "    <tr>\n",
       "      <th>2023-05-10</th>\n",
       "      <td>173.020004</td>\n",
       "      <td>174.029999</td>\n",
       "      <td>171.899994</td>\n",
       "      <td>173.559998</td>\n",
       "      <td>173.559998</td>\n",
       "      <td>53724500</td>\n",
       "    </tr>\n",
       "    <tr>\n",
       "      <th>2023-05-09</th>\n",
       "      <td>173.050003</td>\n",
       "      <td>173.539993</td>\n",
       "      <td>171.600006</td>\n",
       "      <td>171.770004</td>\n",
       "      <td>171.770004</td>\n",
       "      <td>45326900</td>\n",
       "    </tr>\n",
       "    <tr>\n",
       "      <th>2023-05-08</th>\n",
       "      <td>172.479996</td>\n",
       "      <td>173.850006</td>\n",
       "      <td>172.110001</td>\n",
       "      <td>173.500000</td>\n",
       "      <td>173.500000</td>\n",
       "      <td>55962800</td>\n",
       "    </tr>\n",
       "    <tr>\n",
       "      <th>2023-05-05</th>\n",
       "      <td>170.979996</td>\n",
       "      <td>174.300003</td>\n",
       "      <td>170.759995</td>\n",
       "      <td>173.570007</td>\n",
       "      <td>173.570007</td>\n",
       "      <td>113316400</td>\n",
       "    </tr>\n",
       "    <tr>\n",
       "      <th>2023-05-04</th>\n",
       "      <td>164.889999</td>\n",
       "      <td>167.039993</td>\n",
       "      <td>164.309998</td>\n",
       "      <td>165.789993</td>\n",
       "      <td>165.789993</td>\n",
       "      <td>81235400</td>\n",
       "    </tr>\n",
       "    <tr>\n",
       "      <th>...</th>\n",
       "      <td>...</td>\n",
       "      <td>...</td>\n",
       "      <td>...</td>\n",
       "      <td>...</td>\n",
       "      <td>...</td>\n",
       "      <td>...</td>\n",
       "    </tr>\n",
       "    <tr>\n",
       "      <th>1980-12-18</th>\n",
       "      <td>0.118862</td>\n",
       "      <td>0.119420</td>\n",
       "      <td>0.118862</td>\n",
       "      <td>0.118862</td>\n",
       "      <td>0.092351</td>\n",
       "      <td>73449600</td>\n",
       "    </tr>\n",
       "    <tr>\n",
       "      <th>1980-12-17</th>\n",
       "      <td>0.115513</td>\n",
       "      <td>0.116071</td>\n",
       "      <td>0.115513</td>\n",
       "      <td>0.115513</td>\n",
       "      <td>0.089749</td>\n",
       "      <td>86441600</td>\n",
       "    </tr>\n",
       "    <tr>\n",
       "      <th>1980-12-16</th>\n",
       "      <td>0.113281</td>\n",
       "      <td>0.113281</td>\n",
       "      <td>0.112723</td>\n",
       "      <td>0.112723</td>\n",
       "      <td>0.087582</td>\n",
       "      <td>105728000</td>\n",
       "    </tr>\n",
       "    <tr>\n",
       "      <th>1980-12-15</th>\n",
       "      <td>0.122210</td>\n",
       "      <td>0.122210</td>\n",
       "      <td>0.121652</td>\n",
       "      <td>0.121652</td>\n",
       "      <td>0.094519</td>\n",
       "      <td>175884800</td>\n",
       "    </tr>\n",
       "    <tr>\n",
       "      <th>1980-12-12</th>\n",
       "      <td>0.128348</td>\n",
       "      <td>0.128906</td>\n",
       "      <td>0.128348</td>\n",
       "      <td>0.128348</td>\n",
       "      <td>0.099722</td>\n",
       "      <td>469033600</td>\n",
       "    </tr>\n",
       "  </tbody>\n",
       "</table>\n",
       "<p>10692 rows × 6 columns</p>\n",
       "</div>"
      ],
      "text/plain": [
       "                  Open        High         Low       Close   Adj Close  \\\n",
       "Date                                                                     \n",
       "2023-05-10  173.020004  174.029999  171.899994  173.559998  173.559998   \n",
       "2023-05-09  173.050003  173.539993  171.600006  171.770004  171.770004   \n",
       "2023-05-08  172.479996  173.850006  172.110001  173.500000  173.500000   \n",
       "2023-05-05  170.979996  174.300003  170.759995  173.570007  173.570007   \n",
       "2023-05-04  164.889999  167.039993  164.309998  165.789993  165.789993   \n",
       "...                ...         ...         ...         ...         ...   \n",
       "1980-12-18    0.118862    0.119420    0.118862    0.118862    0.092351   \n",
       "1980-12-17    0.115513    0.116071    0.115513    0.115513    0.089749   \n",
       "1980-12-16    0.113281    0.113281    0.112723    0.112723    0.087582   \n",
       "1980-12-15    0.122210    0.122210    0.121652    0.121652    0.094519   \n",
       "1980-12-12    0.128348    0.128906    0.128348    0.128348    0.099722   \n",
       "\n",
       "               Volume  \n",
       "Date                   \n",
       "2023-05-10   53724500  \n",
       "2023-05-09   45326900  \n",
       "2023-05-08   55962800  \n",
       "2023-05-05  113316400  \n",
       "2023-05-04   81235400  \n",
       "...               ...  \n",
       "1980-12-18   73449600  \n",
       "1980-12-17   86441600  \n",
       "1980-12-16  105728000  \n",
       "1980-12-15  175884800  \n",
       "1980-12-12  469033600  \n",
       "\n",
       "[10692 rows x 6 columns]"
      ]
     },
     "execution_count": 36,
     "metadata": {},
     "output_type": "execute_result"
    }
   ],
   "source": [
    "# Reverse the DataFrame\n",
    "rev_data_frame = AAPL.iloc[::-1]\n",
    "rev_data_frame\n"
   ]
  },
  {
   "cell_type": "code",
   "execution_count": 38,
   "id": "5bd2be66",
   "metadata": {},
   "outputs": [
    {
     "data": {
      "text/plain": [
       "DatetimeIndex(['2007-01-01', '2007-01-02', '2007-01-03', '2007-01-04',\n",
       "               '2007-01-05', '2007-01-08', '2007-01-09', '2007-01-10',\n",
       "               '2007-01-11', '2007-01-12',\n",
       "               ...\n",
       "               '2047-12-11', '2047-12-12', '2047-12-13', '2047-12-16',\n",
       "               '2047-12-17', '2047-12-18', '2047-12-19', '2047-12-20',\n",
       "               '2047-12-23', '2047-12-24'],\n",
       "              dtype='datetime64[ns]', length=10692, freq='B')"
      ]
     },
     "execution_count": 38,
     "metadata": {},
     "output_type": "execute_result"
    }
   ],
   "source": [
    "# Convert to time series\n",
    "AAPLts = rev_data_frame['Close']\n",
    "AAPLts.index = pd.date_range(start='2007-01-01', periods=len(AAPLts), freq='B')\n",
    "AAPLts.index "
   ]
  },
  {
   "cell_type": "code",
   "execution_count": 49,
   "id": "31348d59",
   "metadata": {},
   "outputs": [
    {
     "data": {
      "text/plain": [
       "<Figure size 2880x720 with 0 Axes>"
      ]
     },
     "metadata": {},
     "output_type": "display_data"
    },
    {
     "data": {
      "image/png": "[encoded data removed]",
      "text/plain": [
       "<Figure size 432x288 with 4 Axes>"
      ]
     },
     "metadata": {
      "needs_background": "light"
     },
     "output_type": "display_data"
    }
   ],
   "source": [
    "\n",
    "# Plot decomposed series with an additive model\n",
    "result = seasonal_decompose(AAPLts, model='additive', period=252)\n",
    "\n",
    "plt.figure(figsize=(40, 10))  # Set your desired width and height\n",
    "\n",
    "# Plot decomposed series with an additive model\n",
    "result.plot()\n",
    "plt.show()"
   ]
  },
  {
   "cell_type": "code",
   "execution_count": 50,
   "id": "59f6a183",
   "metadata": {},
   "outputs": [
    {
     "name": "stderr",
     "output_type": "stream",
     "text": [
      "/Users/yuntzuyu/opt/anaconda3/lib/python3.9/site-packages/statsmodels/graphics/tsaplots.py:348: FutureWarning: The default method 'yw' can produce PACF values outside of the [-1,1] interval. After 0.13, the default will change tounadjusted Yule-Walker ('ywm'). You can use this method now by setting method='ywm'.\n",
      "  warnings.warn(\n"
     ]
    },
    {
     "data": {
      "image/png": "[encoded data removed]",
      "text/plain": [
       "<Figure size 720x576 with 2 Axes>"
      ]
     },
     "metadata": {
      "needs_background": "light"
     },
     "output_type": "display_data"
    }
   ],
   "source": [
    "# Auto-correlation plot\n",
    "fig, ax = plt.subplots(2, 1, figsize=(10, 8))\n",
    "plot_acf(AAPLts, ax=ax[0])\n",
    "plot_pacf(AAPLts, ax=ax[1])\n",
    "plt.show()\n",
    "\n"
   ]
  },
  {
   "cell_type": "code",
   "execution_count": 51,
   "id": "3e003941",
   "metadata": {},
   "outputs": [
    {
     "name": "stdout",
     "output_type": "stream",
     "text": [
      "ADF Statistic: -4.596926086291739\n",
      "p-value: 0.00013086529659913813\n"
     ]
    }
   ],
   "source": [
    "# Perform ADF test\n",
    "adf_result = adfuller(AAPLts)\n",
    "print(f'ADF Statistic: {adf_result[0]}')\n",
    "print(f'p-value: {adf_result[1]}')\n",
    "\n"
   ]
  },
  {
   "cell_type": "code",
   "execution_count": 52,
   "id": "be1de18e",
   "metadata": {},
   "outputs": [
    {
     "name": "stdout",
     "output_type": "stream",
     "text": [
      "KPSS Statistic: 8.274130483685925\n",
      "p-value: 0.01\n"
     ]
    },
    {
     "name": "stderr",
     "output_type": "stream",
     "text": [
      "/Users/yuntzuyu/opt/anaconda3/lib/python3.9/site-packages/statsmodels/tsa/stattools.py:2018: InterpolationWarning: The test statistic is outside of the range of p-values available in the\n",
      "look-up table. The actual p-value is smaller than the p-value returned.\n",
      "\n",
      "  warnings.warn(\n"
     ]
    }
   ],
   "source": [
    "# Perform KPSS test\n",
    "kpss_result = kpss(AAPLts, regression='c')\n",
    "print(f'KPSS Statistic: {kpss_result[0]}')\n",
    "print(f'p-value: {kpss_result[1]}')\n",
    "\n"
   ]
  },
  {
   "cell_type": "code",
   "execution_count": 55,
   "id": "73df7561",
   "metadata": {},
   "outputs": [
    {
     "data": {
      "text/plain": [
       "2007-01-01    5.156523\n",
       "2007-01-02    5.146156\n",
       "2007-01-03    5.156178\n",
       "2007-01-04    5.156581\n",
       "2007-01-05    5.110722\n",
       "Freq: B, Name: Close, dtype: float64"
      ]
     },
     "execution_count": 55,
     "metadata": {},
     "output_type": "execute_result"
    }
   ],
   "source": [
    "# Log transformation\n",
    "AAPLtslog = np.log(AAPLts)\n",
    "AAPLtslog.head()\n"
   ]
  },
  {
   "cell_type": "code",
   "execution_count": 57,
   "id": "453fc355",
   "metadata": {},
   "outputs": [
    {
     "data": {
      "text/plain": [
       "2007-01-02   -0.010367\n",
       "2007-01-03    0.010021\n",
       "2007-01-04    0.000403\n",
       "2007-01-05   -0.045859\n",
       "2007-01-08    0.009963\n",
       "Freq: B, Name: Close, dtype: float64"
      ]
     },
     "execution_count": 57,
     "metadata": {},
     "output_type": "execute_result"
    }
   ],
   "source": [
    "# Differencing\n",
    "AAPLtslogdiff = AAPLtslog.diff().dropna()\n",
    "AAPLtslogdiff.head()\n"
   ]
  },
  {
   "cell_type": "code",
   "execution_count": 58,
   "id": "685addf6",
   "metadata": {},
   "outputs": [
    {
     "data": {
      "image/png": "[encoded data removed]",
      "text/plain": [
       "<Figure size 432x288 with 1 Axes>"
      ]
     },
     "metadata": {
      "needs_background": "light"
     },
     "output_type": "display_data"
    }
   ],
   "source": [
    "# Plot differenced series\n",
    "AAPLtslogdiff.plot(title='Differenced Log Series')\n",
    "plt.show()\n",
    "\n"
   ]
  },
  {
   "cell_type": "code",
   "execution_count": 59,
   "id": "f2223b63",
   "metadata": {},
   "outputs": [
    {
     "name": "stdout",
     "output_type": "stream",
     "text": [
      "                               SARIMAX Results                                \n",
      "==============================================================================\n",
      "Dep. Variable:                  Close   No. Observations:                10692\n",
      "Model:                 ARIMA(0, 1, 4)   Log Likelihood               22829.535\n",
      "Date:                Mon, 01 Jul 2024   AIC                         -45649.071\n",
      "Time:                        12:03:22   BIC                         -45612.685\n",
      "Sample:                    01-01-2007   HQIC                        -45636.795\n",
      "                         - 12-24-2047                                         \n",
      "Covariance Type:                  opg                                         \n",
      "==============================================================================\n",
      "                 coef    std err          z      P>|z|      [0.025      0.975]\n",
      "------------------------------------------------------------------------------\n",
      "ma.L1          0.0165      0.006      2.706      0.007       0.005       0.029\n",
      "ma.L2         -0.0192      0.006     -3.108      0.002      -0.031      -0.007\n",
      "ma.L3         -0.0296      0.007     -4.497      0.000      -0.042      -0.017\n",
      "ma.L4          0.0272      0.007      3.853      0.000       0.013       0.041\n",
      "sigma2         0.0008   2.78e-06    294.160      0.000       0.001       0.001\n",
      "===================================================================================\n",
      "Ljung-Box (L1) (Q):                   0.00   Jarque-Bera (JB):            962530.70\n",
      "Prob(Q):                              0.96   Prob(JB):                         0.00\n",
      "Heteroskedasticity (H):               2.82   Skew:                             1.73\n",
      "Prob(H) (two-sided):                  0.00   Kurtosis:                        49.36\n",
      "===================================================================================\n",
      "\n",
      "Warnings:\n",
      "[1] Covariance matrix calculated using the outer product of gradients (complex-step).\n"
     ]
    }
   ],
   "source": [
    "# ARIMA Model\n",
    "model = ARIMA(AAPLtslog, order=(0, 1, 4))\n",
    "fitAAPL1 = model.fit()\n",
    "print(fitAAPL1.summary())\n",
    "\n"
   ]
  },
  {
   "cell_type": "code",
   "execution_count": 60,
   "id": "b4225c9f",
   "metadata": {},
   "outputs": [
    {
     "name": "stderr",
     "output_type": "stream",
     "text": [
      "/Users/yuntzuyu/opt/anaconda3/lib/python3.9/site-packages/statsmodels/graphics/tsaplots.py:348: FutureWarning: The default method 'yw' can produce PACF values outside of the [-1,1] interval. After 0.13, the default will change tounadjusted Yule-Walker ('ywm'). You can use this method now by setting method='ywm'.\n",
      "  warnings.warn(\n"
     ]
    },
    {
     "data": {
      "image/png": "[encoded data removed]",
      "text/plain": [
       "<Figure size 720x576 with 2 Axes>"
      ]
     },
     "metadata": {
      "needs_background": "light"
     },
     "output_type": "display_data"
    }
   ],
   "source": [
    "# Residual analysis\n",
    "residuals = fitAAPL1.resid\n",
    "fig, ax = plt.subplots(2, 1, figsize=(10, 8))\n",
    "plot_acf(residuals, ax=ax[0])\n",
    "plot_pacf(residuals, ax=ax[1])\n",
    "plt.show()\n"
   ]
  },
  {
   "cell_type": "code",
   "execution_count": 61,
   "id": "c2ac36ea",
   "metadata": {},
   "outputs": [],
   "source": [
    "\n",
    "# Forecasting\n",
    "forecast = fitAAPL1.get_forecast(steps=100)\n",
    "forecast_ci = forecast.conf_int()\n",
    "\n"
   ]
  },
  {
   "cell_type": "code",
   "execution_count": 62,
   "id": "9753c620",
   "metadata": {},
   "outputs": [
    {
     "data": {
      "image/png": "[encoded data removed]",
      "text/plain": [
       "<Figure size 1008x504 with 1 Axes>"
      ]
     },
     "metadata": {
      "needs_background": "light"
     },
     "output_type": "display_data"
    }
   ],
   "source": [
    "# Plot forecast\n",
    "ax = AAPLtslog.plot(label='observed', figsize=(14, 7))\n",
    "forecast.predicted_mean.plot(ax=ax, label='Forecast')\n",
    "ax.fill_between(forecast_ci.index,\n",
    "                forecast_ci.iloc[:, 0],\n",
    "                forecast_ci.iloc[:, 1], color='k', alpha=.25)\n",
    "ax.set_xlabel('Date')\n",
    "ax.set_ylabel('AAPL Prices')\n",
    "plt.legend()\n",
    "plt.show()\n",
    "\n"
   ]
  },
  {
   "cell_type": "code",
   "execution_count": 63,
   "id": "9cb8668c",
   "metadata": {},
   "outputs": [
    {
     "name": "stdout",
     "output_type": "stream",
     "text": [
      "Iteration:      1,   Func. Count:      6,   Neg. LLF: 6064461107.6094675\n",
      "Iteration:      2,   Func. Count:     21,   Neg. LLF: 115462420848.8406\n",
      "Iteration:      3,   Func. Count:     36,   Neg. LLF: 30945.095725344676\n",
      "Iteration:      4,   Func. Count:     41,   Neg. LLF: 38177.263188975645\n",
      "Iteration:      5,   Func. Count:     47,   Neg. LLF: 28399.87768860344\n",
      "Iteration:      6,   Func. Count:     54,   Neg. LLF: 17767.219751606084\n",
      "Iteration:      7,   Func. Count:     61,   Neg. LLF: 198500652.56776512\n",
      "Iteration:      8,   Func. Count:     73,   Neg. LLF: -9125.652961412787\n",
      "Optimization terminated successfully    (Exit mode 0)\n",
      "            Current function value: -9125.653042745325\n",
      "            Iterations: 12\n",
      "            Function evaluations: 73\n",
      "            Gradient evaluations: 8\n",
      "                     Constant Mean - GARCH Model Results                      \n",
      "==============================================================================\n",
      "Dep. Variable:                   None   R-squared:                       0.000\n",
      "Mean Model:             Constant Mean   Adj. R-squared:                  0.000\n",
      "Vol Model:                      GARCH   Log-Likelihood:                9125.65\n",
      "Distribution:                  Normal   AIC:                          -18243.3\n",
      "Method:            Maximum Likelihood   BIC:                          -18214.2\n",
      "                                        No. Observations:                10692\n",
      "Date:                Mon, Jul 01 2024   Df Residuals:                    10691\n",
      "Time:                        12:03:57   Df Model:                            1\n",
      "                                  Mean Model                                  \n",
      "==============================================================================\n",
      "                  coef    std err          t      P>|t|       95.0% Conf. Int.\n",
      "------------------------------------------------------------------------------\n",
      "mu         -7.6871e-04  3.950e-04     -1.946  5.165e-02 [-1.543e-03,5.502e-06]\n",
      "                              Volatility Model                              \n",
      "============================================================================\n",
      "                 coef    std err          t      P>|t|      95.0% Conf. Int.\n",
      "----------------------------------------------------------------------------\n",
      "omega          0.0261  3.857e-03      6.771  1.281e-11 [1.856e-02,3.368e-02]\n",
      "alpha[1]       0.9580      6.711      0.143      0.886     [-12.196, 14.112]\n",
      "beta[1]        0.0420  6.304e-02      0.667      0.505  [-8.153e-02,  0.166]\n",
      "============================================================================\n",
      "\n",
      "Covariance estimator: robust\n"
     ]
    },
    {
     "name": "stderr",
     "output_type": "stream",
     "text": [
      "/Users/yuntzuyu/opt/anaconda3/lib/python3.9/site-packages/arch/univariate/base.py:311: DataScaleWarning: y is poorly scaled, which may affect convergence of the optimizer when\n",
      "estimating the model parameters. The scale of y is 0.003305. Parameter\n",
      "estimation work better when this value is between 1 and 1000. The recommended\n",
      "rescaling is 10 * y.\n",
      "\n",
      "This warning can be disabled by either rescaling y before initializing the\n",
      "model or by setting rescale=False.\n",
      "\n",
      "  warnings.warn(\n"
     ]
    }
   ],
   "source": [
    "# GARCH model\n",
    "am = arch_model(residuals, vol='Garch', p=1, q=1)\n",
    "garch_fit = am.fit()\n",
    "print(garch_fit.summary())\n",
    "\n"
   ]
  },
  {
   "cell_type": "code",
   "execution_count": 64,
   "id": "2685da77",
   "metadata": {},
   "outputs": [
    {
     "data": {
      "image/png": "[encoded data removed]",
      "text/plain": [
       "<Figure size 720x432 with 1 Axes>"
      ]
     },
     "metadata": {
      "needs_background": "light"
     },
     "output_type": "display_data"
    }
   ],
   "source": [
    "# Plot GARCH residuals\n",
    "plt.figure(figsize=(10, 6))\n",
    "plt.plot(garch_fit.resid)\n",
    "plt.title('GARCH Residuals')\n",
    "plt.show()\n"
   ]
  },
  {
   "cell_type": "code",
   "execution_count": null,
   "id": "b85ef53d",
   "metadata": {},
   "outputs": [],
   "source": []
  }
 ],
 "metadata": {
  "kernelspec": {
   "display_name": "Python 3 (ipykernel)",
   "language": "python",
   "name": "python3"
  },
  "language_info": {
   "codemirror_mode": {
    "name": "ipython",
    "version": 3
   },
   "file_extension": ".py",
   "mimetype": "text/x-python",
   "name": "python",
   "nbconvert_exporter": "python",
   "pygments_lexer": "ipython3",
   "version": "3.9.12"
  }
 },
 "nbformat": 4,
 "nbformat_minor": 5
}
